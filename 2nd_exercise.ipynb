{
 "cells": [
  {
   "cell_type": "code",
   "execution_count": 75,
   "metadata": {},
   "outputs": [],
   "source": [
    "import numpy as np"
   ]
  },
  {
   "cell_type": "code",
   "execution_count": 76,
   "metadata": {},
   "outputs": [],
   "source": [
    "def find_direction(x, y):\n",
    "    # 0 = constant, 1 = increasing, -1 = decreasing\n",
    "    if x - y > 0:\n",
    "        return -1\n",
    "    elif x - y < 0:\n",
    "        return 1\n",
    "    else:\n",
    "        return 0"
   ]
  },
  {
   "cell_type": "code",
   "execution_count": 77,
   "metadata": {},
   "outputs": [],
   "source": [
    "\n",
    "def assert_rules(x, y, direction):\n",
    "  new_direction = find_direction(x, y)\n",
    "  if new_direction != direction:\n",
    "    return False\n",
    "    \n",
    "  distance_equals_three = abs(x - y) == 3\n",
    "  distance_equals_tow = abs(x - y) == 2\n",
    "  distance_equals_one = abs(x - y) == 1\n",
    "  if not (distance_equals_tow or distance_equals_one or distance_equals_three):\n",
    "    return False\n",
    "  return True"
   ]
  },
  {
   "cell_type": "code",
   "execution_count": 78,
   "metadata": {},
   "outputs": [
    {
     "data": {
      "text/plain": [
       "False"
      ]
     },
     "execution_count": 78,
     "metadata": {},
     "output_type": "execute_result"
    }
   ],
   "source": [
    "assert_rules(1, 3, -1) == True"
   ]
  },
  {
   "cell_type": "code",
   "execution_count": 79,
   "metadata": {},
   "outputs": [],
   "source": [
    "def count_safe_reports_v1(reports):\n",
    "\n",
    "  safe_reports = len(reports)\n",
    "  for report in reports:\n",
    "    direction = find_direction(report[0], report[1])\n",
    "    \n",
    "    for i in range(1,len(report)):\n",
    "      \n",
    "      if not assert_rules(report[i-1], report[i], direction):\n",
    "        safe_reports -= 1\n",
    "        break\n",
    "      \n",
    "  return safe_reports"
   ]
  },
  {
   "cell_type": "code",
   "execution_count": 80,
   "metadata": {},
   "outputs": [
    {
     "name": "stdout",
     "output_type": "stream",
     "text": [
      "4\n"
     ]
    }
   ],
   "source": [
    "def is_safe(report):\n",
    "    increasing = all(report[i] < report[i + 1] and 1 <= report[i + 1] - report[i] <= 3 for i in range(len(report) - 1))\n",
    "    decreasing = all(report[i] > report[i + 1] and 1 <= report[i] - report[i + 1] <= 3 for i in range(len(report) - 1))\n",
    "    return increasing or decreasing\n",
    "\n",
    "def count_safe_reports_v2(reports):\n",
    "    safe_count = 0\n",
    "\n",
    "    for report in reports:\n",
    "        if is_safe(report):\n",
    "            safe_count += 1\n",
    "        else:\n",
    "            for i in range(len(report)):\n",
    "                modified_report = report[:i] + report[i + 1:]\n",
    "                if is_safe(modified_report):\n",
    "                    safe_count += 1\n",
    "                    break\n",
    "\n",
    "    return safe_count\n",
    "\n",
    "reports = [\n",
    "    [7, 6, 4, 2, 1],\n",
    "    [1, 2, 7, 8, 9],\n",
    "    [9, 7, 6, 2, 1],\n",
    "    [1, 3, 2, 4, 5],\n",
    "    [8, 6, 4, 4, 1],\n",
    "    [1, 3, 6, 7, 9]\n",
    "]\n",
    "\n",
    "print(count_safe_reports_v2(reports))  "
   ]
  },
  {
   "cell_type": "code",
   "execution_count": 81,
   "metadata": {},
   "outputs": [
    {
     "name": "stdout",
     "output_type": "stream",
     "text": [
      "337\n"
     ]
    }
   ],
   "source": [
    "with open('inputs/2nd_exercise_input.txt', 'r') as f:\n",
    "  data = f.read().splitlines()\n",
    "  reports = [list(map(int, report.split())) for report in data]\n",
    "  print(count_safe_reports_v2(reports))"
   ]
  }
 ],
 "metadata": {
  "kernelspec": {
   "display_name": ".venv",
   "language": "python",
   "name": "python3"
  },
  "language_info": {
   "codemirror_mode": {
    "name": "ipython",
    "version": 3
   },
   "file_extension": ".py",
   "mimetype": "text/x-python",
   "name": "python",
   "nbconvert_exporter": "python",
   "pygments_lexer": "ipython3",
   "version": "3.10.12"
  }
 },
 "nbformat": 4,
 "nbformat_minor": 2
}
