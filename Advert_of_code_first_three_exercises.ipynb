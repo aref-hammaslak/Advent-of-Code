{
  "nbformat": 4,
  "nbformat_minor": 0,
  "metadata": {
    "colab": {
      "provenance": []
    },
    "kernelspec": {
      "name": "python3",
      "display_name": "Python 3"
    },
    "language_info": {
      "name": "python"
    }
  },
  "cells": [
    {
      "cell_type": "markdown",
      "source": [
        "#First Exercise"
      ],
      "metadata": {
        "id": "6PBQQd7A7ndI"
      }
    },
    {
      "cell_type": "code",
      "source": [
        "import numpy as np"
      ],
      "metadata": {
        "id": "Jh_p3wF48WM3"
      },
      "execution_count": 22,
      "outputs": []
    },
    {
      "cell_type": "code",
      "source": [
        "def total_distance(left_list, right_list):\n",
        "\n",
        "  left_list = np.sort(left_list)\n",
        "  right_list = np.sort(right_list)\n",
        "  return np.sum(np.abs(left_list - right_list))"
      ],
      "metadata": {
        "id": "NvU32BN28S-m"
      },
      "execution_count": 23,
      "outputs": []
    },
    {
      "cell_type": "code",
      "source": [
        "leff_list = np.random.randint(1, 100, 100)\n",
        "right_list = np.random.randint(3, 100, 100)\n",
        "print('left_list\\n',leff_list)\n",
        "print('right_list\\n', right_list)\n",
        "\n",
        "print('Toatal distance between left_list and right_list\\n',total_distance(leff_list, right_list))"
      ],
      "metadata": {
        "colab": {
          "base_uri": "https://localhost:8080/"
        },
        "id": "vl1KM3bh8VOe",
        "outputId": "6476aa38-a752-4daa-dc01-515903da28e9"
      },
      "execution_count": 24,
      "outputs": [
        {
          "output_type": "stream",
          "name": "stdout",
          "text": [
            "left_list\n",
            " [89 52 69 39 86  3 33 96 47 32 80 15 69 23 14 52 87 97 44 47 65 76 57 94\n",
            " 75 97 41 87 91 30 36 56 44 90 74 61  3 82 34  9 14 93 43 45 25 66 17 55\n",
            " 23 45  1 83 24 61 84 54 19 25 78 91 29 96 16 30 11 49 64 70 37 74  5 80\n",
            " 36 97 70 85 15 29 92 57 76 78  4 67 61 54 80 15 88 79 34 24 57 24 61 68\n",
            " 46 76 80 79]\n",
            "right_list\n",
            " [ 9 53 63 52 81 23 15 25 43 57 36 94 53 74 33 30 87 77  7 29 51 31 93 77\n",
            " 40 72 52 25 80 50 53 57 38 80 91 61 47 92 94 21 65 96 75 52 40 16 32 97\n",
            " 88 30 67 90 22 42 86 18 39 12 56 12 45 42 42 72 17 74 22 57 25 75 19 47\n",
            " 81 67 15 44 55 52 78 92 90 74 78 75  5  9 82 80 39 29 94 81 41 46 87 20\n",
            " 74 47 30 36]\n",
            "Toatal distance between left_list and right_list\n",
            " 264\n"
          ]
        }
      ]
    },
    {
      "cell_type": "markdown",
      "source": [
        "#Second Exercise"
      ],
      "metadata": {
        "id": "_awmHjF67v8n"
      }
    },
    {
      "cell_type": "code",
      "source": [
        "def count_safe_reports(reports):\n",
        "\n",
        "  safe_reports = len(reports)\n",
        "  for report in reports:\n",
        "    for i in range(1,len(report)):\n",
        "      distance_equals_tow = np.abs(report[i-1] - report[i]) == 2\n",
        "      distance_equals_one = np.abs(report[i-1] - report[i]) == 1\n",
        "      if not (distance_equals_tow or distance_equals_one):\n",
        "        safe_reports -= 1\n",
        "        break\n",
        "  return safe_reports"
      ],
      "metadata": {
        "id": "VRABYfG2yK-e"
      },
      "execution_count": 30,
      "outputs": []
    },
    {
      "cell_type": "code",
      "source": [
        "#test functionality\n",
        "reports = np.array([\n",
        "    [7, 6, 4, 2, 1],\n",
        "    [1, 2, 7, 8, 9],\n",
        "    [9, 7, 6, 2, 1],\n",
        "    [1, 3, 2, 4, 5],\n",
        "    [8, 6, 4, 4, 1],\n",
        "    [1, 3, 6, 7, 9]\n",
        "])\n",
        "\n",
        "print(count_safe_reports(reports))"
      ],
      "metadata": {
        "colab": {
          "base_uri": "https://localhost:8080/"
        },
        "id": "AHwouM-PznzG",
        "outputId": "5b125949-2bf9-48f1-c587-4a08043b91fd"
      },
      "execution_count": 31,
      "outputs": [
        {
          "output_type": "stream",
          "name": "stdout",
          "text": [
            "2\n"
          ]
        }
      ]
    },
    {
      "cell_type": "markdown",
      "source": [
        "#Third experience"
      ],
      "metadata": {
        "id": "8vIkSF0s7-Pu"
      }
    },
    {
      "cell_type": "code",
      "source": [
        "import re"
      ],
      "metadata": {
        "id": "fdShKb3g2I2-"
      },
      "execution_count": 27,
      "outputs": []
    },
    {
      "cell_type": "code",
      "source": [
        "def scan_add_mul_instructions(corrupted_str):\n",
        "  muls = re.findall(r'mul\\(\\d+,\\d+\\)', corrupted_str)\n",
        "\n",
        "  result = 0\n",
        "  for mul in muls:\n",
        "    firs_number = int(mul.split(',')[0].split('(')[1])\n",
        "    second_number = int(mul.split(',')[1].split(')')[0])\n",
        "    result += firs_number * second_number\n",
        "\n",
        "  return result"
      ],
      "metadata": {
        "id": "icdmJXDe3ja_"
      },
      "execution_count": 28,
      "outputs": []
    },
    {
      "cell_type": "markdown",
      "source": [],
      "metadata": {
        "id": "8URNBqZ253AX"
      }
    },
    {
      "cell_type": "code",
      "source": [
        "#test functionality\n",
        "print(scan_add_mul_instructions('xmul(2,4)%&mul[3,7]!@^do_not_mul(5,5)+mul(32,64]then(mul(11,8)mul(8,5))'))"
      ],
      "metadata": {
        "colab": {
          "base_uri": "https://localhost:8080/"
        },
        "id": "iYpCwNaR4t-O",
        "outputId": "fea233c2-fce4-4984-8a38-4e3123f5a6b2"
      },
      "execution_count": 29,
      "outputs": [
        {
          "output_type": "stream",
          "name": "stdout",
          "text": [
            "161\n"
          ]
        }
      ]
    }
  ]
}