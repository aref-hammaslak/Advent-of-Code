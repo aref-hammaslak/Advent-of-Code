{
 "cells": [
  {
   "cell_type": "code",
   "execution_count": 5,
   "metadata": {},
   "outputs": [],
   "source": [
    "import re"
   ]
  },
  {
   "cell_type": "code",
   "execution_count": 6,
   "metadata": {},
   "outputs": [],
   "source": [
    "def scan_add_mul_instructions_v1(corrupted_str):\n",
    "  muls = re.findall(r'mul\\(\\d+,\\d+\\)', corrupted_str)\n",
    "\n",
    "  result = 0\n",
    "  for mul in muls:\n",
    "    firs_number = int(mul.split(',')[0].split('(')[1])\n",
    "    second_number = int(mul.split(',')[1].split(')')[0])\n",
    "    result += firs_number * second_number\n",
    "\n",
    "  return result"
   ]
  },
  {
   "cell_type": "code",
   "execution_count": 7,
   "metadata": {},
   "outputs": [],
   "source": [
    "def scan_add_mul_instructions_v2(corrupted_str):\n",
    "    instructions = re.findall(r'mul\\(\\d+,\\d+\\)|do\\(\\)|don\\'t\\(\\)', corrupted_str)\n",
    "\n",
    "    result = 0\n",
    "    mul_enabled = True  \n",
    "\n",
    "    for instruction in instructions:\n",
    "        if instruction == \"do()\":\n",
    "            mul_enabled = True\n",
    "        elif instruction == \"don't()\":\n",
    "            mul_enabled = False\n",
    "        elif mul_enabled and instruction.startswith(\"mul(\"):\n",
    "            # Extract numbers from the mul instruction\n",
    "            numbers = re.findall(r'\\d+', instruction)\n",
    "            if len(numbers) == 2:\n",
    "                result += int(numbers[0]) * int(numbers[1])\n",
    "\n",
    "    return result"
   ]
  },
  {
   "cell_type": "code",
   "execution_count": 8,
   "metadata": {},
   "outputs": [
    {
     "name": "stdout",
     "output_type": "stream",
     "text": [
      "70478672\n"
     ]
    }
   ],
   "source": [
    "with open('inputs/3rd_exercise_input.txt', 'r') as file:\n",
    "    corrupted_str = file.read()\n",
    "    \n",
    "result = scan_add_mul_instructions_v2(corrupted_str)\n",
    "print(result)"
   ]
  }
 ],
 "metadata": {
  "kernelspec": {
   "display_name": ".venv",
   "language": "python",
   "name": "python3"
  },
  "language_info": {
   "codemirror_mode": {
    "name": "ipython",
    "version": 3
   },
   "file_extension": ".py",
   "mimetype": "text/x-python",
   "name": "python",
   "nbconvert_exporter": "python",
   "pygments_lexer": "ipython3",
   "version": "3.10.12"
  }
 },
 "nbformat": 4,
 "nbformat_minor": 2
}
